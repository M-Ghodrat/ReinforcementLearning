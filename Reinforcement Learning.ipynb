{
 "cells": [
  {
   "cell_type": "markdown",
   "id": "bridal-pharmacology",
   "metadata": {},
   "source": [
    "# Reinforcement Learning"
   ]
  },
  {
   "cell_type": "markdown",
   "id": "micro-nelson",
   "metadata": {},
   "source": [
    "Program is to compare the greedy and e-greedy methods in a 10-armed bandit testbed, presented in the Reinforcement Learning: An Introduction book, Sutton, Barto, fig 2.2."
   ]
  },
  {
   "cell_type": "code",
   "execution_count": 1,
   "id": "executed-million",
   "metadata": {},
   "outputs": [],
   "source": [
    "import numpy as np\n",
    "import matplotlib.pyplot as plt\n",
    "import time"
   ]
  },
  {
   "cell_type": "markdown",
   "id": "removable-territory",
   "metadata": {},
   "source": [
    "TestBed class containing the states and actions, and the overall rules of the test:"
   ]
  },
  {
   "cell_type": "code",
   "execution_count": 5,
   "id": "isolated-gathering",
   "metadata": {},
   "outputs": [],
   "source": [
    "class Testbed(object):\n",
    "\n",
    "    # Constructor\n",
    "    def __init__(self, nArms, mean, stDev):\n",
    "\n",
    "        # Number of arms\n",
    "        self.nArms = nArms\n",
    "\n",
    "        # Used for the Gaussian random actions\n",
    "        self.mean = mean        # Mean\n",
    "        self.stDev = stDev      # Standard Deviation\n",
    "\n",
    "        self.actArr = np.zeros(nArms)   # Array to store action values\n",
    "        self.optim = 0                  # Store optimal value for greedy\n",
    "        self.reset()\n",
    "\n",
    "    # Reset testbed for next iteration\n",
    "    def reset(self):\n",
    "        # Set random gaussian/normal values using numpy function, requires mean, standard deviation and number of arms\n",
    "        self.actArr = np.random.normal(self.mean, self.stDev, self.nArms)\n",
    "\n",
    "        # Identify the maximum value in action array\n",
    "        self.optim = np.argmax(self.actArr)"
   ]
  },
  {
   "cell_type": "code",
   "execution_count": 8,
   "id": "altered-dutch",
   "metadata": {},
   "outputs": [
    {
     "data": {
      "text/plain": [
       "array([-0.33900612,  1.15709704,  0.17740611,  0.5540598 ,  0.62021458,\n",
       "        1.33408689, -0.85743683,  0.68480503,  1.8626552 , -0.32911788])"
      ]
     },
     "execution_count": 8,
     "metadata": {},
     "output_type": "execute_result"
    }
   ],
   "source": [
    "np.random.normal(0.2, 1, 10)"
   ]
  },
  {
   "cell_type": "markdown",
   "id": "rental-locking",
   "metadata": {},
   "source": [
    "Agent Class - Controls the agents movement and behaviour in the environment interacting with the testbed and receives information on the current position:"
   ]
  },
  {
   "cell_type": "code",
   "execution_count": 2,
   "id": "aggressive-meditation",
   "metadata": {},
   "outputs": [],
   "source": [
    "class Agent(object):\n",
    "\n",
    "    # Constructor\n",
    "    def __init__(self,nArms, eProb=0):\n",
    "        self.nArms = nArms      # Number of arms\n",
    "        self.eProb = eProb      # Epsilon probability\n",
    "\n",
    "        self.timeStep = 0                    # Time Step t\n",
    "        self.lastAction = None               # Store last action\n",
    "\n",
    "        self.kAction = np.zeros(nArms)          # count of actions taken at time t\n",
    "        self.rSum = np.zeros(nArms)             # Sums number of rewards\n",
    "        self.valEstimates = np.zeros(nArms)     # action value estimates sum(rewards)/Amount\n",
    "\n",
    "\n",
    "    # Return string for graph legend\n",
    "    def __str__(self):\n",
    "        if self.eProb == 0:\n",
    "            return \"Greedy\"\n",
    "        else:\n",
    "            return \"Epsilon = \" + str(self.eProb)\n",
    "\n",
    "\n",
    "    # Selects action based on a epsilon-greedy behaviour,\n",
    "    # if epsilon equals zero, then the agent performs a greedy selection\n",
    "    def action(self):\n",
    "\n",
    "        ### POLICY ###\n",
    "        # Epsilon method\n",
    "        randProb = np.random.random()   # Pick random probability between 0-1\n",
    "        if randProb < self.eProb:\n",
    "            a = np.random.choice(len(self.valEstimates))    # Select random action\n",
    "\n",
    "        # Greedy Method\n",
    "        else:\n",
    "            maxAction = np.argmax(self.valEstimates)     # Find max value estimate\n",
    "            # identify the corresponding action, as array containing only actions with max\n",
    "            action = np.where(self.valEstimates == np.argmax(self.valEstimates))[0]\n",
    "\n",
    "            # If multiple actions contain the same value, randomly select an action\n",
    "            if len(action) == 0:\n",
    "                a = maxAction\n",
    "            else:\n",
    "                a = np.random.choice(action)\n",
    "\n",
    "        # save last action in variable, and return result\n",
    "        self.lastAction = a\n",
    "        return a\n",
    "\n",
    "\n",
    "    # Interpreter - updates the value extimates amounts based on the last action\n",
    "    def interpreter(self, reward):\n",
    "        # Add 1 to the number of action taken in step\n",
    "        At = self.lastAction\n",
    "\n",
    "        self.kAction[At] += 1       # Add 1 to action selection\n",
    "        self.rSum[At] += reward     # Add reward to sum array\n",
    "\n",
    "        # Calculate new action-value, sum(r)/ka\n",
    "        self.valEstimates[At] = self.rSum[At]/self.kAction[At]\n",
    "\n",
    "        # Increase time step\n",
    "        self.timeStep += 1\n",
    "\n",
    "\n",
    "    # Reset all variables for next iteration\n",
    "    def reset(self):\n",
    "        self.timeStep = 0                    # Time Step t\n",
    "        self.lastAction = None               # Store last action\n",
    "\n",
    "        self.kAction[:] = 0                  # count of actions taken at time t\n",
    "        self.rSum[:] = 0\n",
    "        self.valEstimates[:] = 0   # action value estimates Qt ~= Q*(a)"
   ]
  },
  {
   "cell_type": "markdown",
   "id": "nuclear-fireplace",
   "metadata": {},
   "source": [
    "Environment class to control all objects (agent/Testbed)"
   ]
  },
  {
   "cell_type": "code",
   "execution_count": 3,
   "id": "strategic-candy",
   "metadata": {},
   "outputs": [],
   "source": [
    "class Environment(object):\n",
    "\n",
    "    # Constructor\n",
    "    def __init__(self, testbed, agents, plays, iterations):\n",
    "        self.testbed = testbed\n",
    "        self.agents = agents\n",
    "\n",
    "        self.plays = plays\n",
    "        self.iterations = iterations\n",
    "\n",
    "\n",
    "    # Run Test\n",
    "    def play(self):\n",
    "\n",
    "        # Array to store the scores, number of plays X number of agents\n",
    "        scoreArr = np.zeros((self.plays, len(self.agents)))\n",
    "        # Array to maintain optimal count, Graph 2\n",
    "        optimlArr = np.zeros((self.plays, len(self.agents)))\n",
    "\n",
    "        # loop for number of iterations\n",
    "        for iIter in range(self.iterations):\n",
    "\n",
    "            # Print statement after every 100 iterations\n",
    "            if (iIter%100) == 0:\n",
    "                print(\"Completed Iterations: \",iIter)\n",
    "\n",
    "            #Reset testbed and all agents\n",
    "            self.testbed.reset()\n",
    "            for agent in self.agents:\n",
    "                agent.reset()\n",
    "\n",
    "\n",
    "            # Loop for number of plays\n",
    "            for jPlays in range(self.plays):\n",
    "                agtCnt = 0\n",
    "\n",
    "                for kAgent in self.agents:\n",
    "                    actionT =  kAgent.action()\n",
    "\n",
    "                    # Reward - normal dist (Q*(at), variance = 1)\n",
    "                    rewardT = np.random.normal(self.testbed.actArr[actionT], scale=1)\n",
    "\n",
    "                    # Agent checks state\n",
    "                    kAgent.interpreter(reward=rewardT)\n",
    "\n",
    "                    # Add score in arrary, graph 1\n",
    "                    scoreArr[jPlays,agtCnt] += rewardT\n",
    "\n",
    "                    # check the optimal action, add optimal to array, graph 2\n",
    "                    if actionT == self.testbed.optim:\n",
    "                        optimlArr[jPlays,agtCnt] += 1\n",
    "\n",
    "                    agtCnt += 1\n",
    "\n",
    "        #return averages\n",
    "        scoreAvg = scoreArr/self.iterations\n",
    "        optimlAvg = optimlArr/self.iterations\n",
    "\n",
    "        return scoreAvg, optimlAvg"
   ]
  },
  {
   "cell_type": "code",
   "execution_count": 6,
   "id": "acute-germany",
   "metadata": {},
   "outputs": [
    {
     "name": "stdout",
     "output_type": "stream",
     "text": [
      "Running...\n",
      "Completed Iterations:  0\n",
      "Completed Iterations:  100\n",
      "Completed Iterations:  200\n",
      "Completed Iterations:  300\n",
      "Completed Iterations:  400\n",
      "Completed Iterations:  500\n",
      "Completed Iterations:  600\n",
      "Completed Iterations:  700\n",
      "Completed Iterations:  800\n",
      "Completed Iterations:  900\n",
      "Completed Iterations:  1000\n",
      "Completed Iterations:  1100\n",
      "Completed Iterations:  1200\n",
      "Completed Iterations:  1300\n",
      "Completed Iterations:  1400\n",
      "Completed Iterations:  1500\n",
      "Completed Iterations:  1600\n",
      "Completed Iterations:  1700\n",
      "Completed Iterations:  1800\n",
      "Completed Iterations:  1900\n",
      "Execution time: 119.48186135292053 seconds\n"
     ]
    },
    {
     "data": {
      "image/png": "[encoded data removed]",
      "text/plain": [
       "<Figure size 432x288 with 1 Axes>"
      ]
     },
     "metadata": {
      "needs_background": "light"
     },
     "output_type": "display_data"
    },
    {
     "data": {
      "image/png": "[encoded data removed]",
      "text/plain": [
       "<Figure size 432x288 with 1 Axes>"
      ]
     },
     "metadata": {
      "needs_background": "light"
     },
     "output_type": "display_data"
    }
   ],
   "source": [
    "if __name__ == \"__main__\":\n",
    "    start_time = time.time()    #store time to monitor execution\n",
    "    nArms = 10                  # n number of bandits\n",
    "    iterations = 2000         # number of repeated iterations\n",
    "    plays = 1000                # number of pplays per iteration\n",
    "\n",
    "    # Setup objects to contain infomration about the agents, testbed, and environment\n",
    "    testbed = Testbed(nArms=nArms,mean=0,stDev=1)\n",
    "    agents = [Agent(nArms=nArms),Agent(nArms=nArms,eProb=0.1),Agent(nArms=nArms,eProb=0.01)]\n",
    "    environment = Environment(testbed=testbed,agents=agents,plays=plays,iterations=iterations)\n",
    "\n",
    "    # Run Environment\n",
    "    print(\"Running...\")\n",
    "    g1Scores, g2Optimal = environment.play()\n",
    "    print(\"Execution time: %s seconds\" % (time.time() - start_time))\n",
    "\n",
    "\n",
    "    #Graph 1 - Averate rewards over all plays\n",
    "    plt.title(\"10-Armed TestBed - Average Rewards\")\n",
    "    plt.plot(g1Scores)\n",
    "    plt.ylabel('Average Reward')\n",
    "    plt.xlabel('Plays')\n",
    "    plt.legend(agents, loc=4)\n",
    "    plt.show()\n",
    "\n",
    "    #Graph 1 - optimal selections over all plays\n",
    "    plt.title(\"10-Armed TestBed - % Optimal Action\")\n",
    "    plt.plot(g2Optimal * 100)\n",
    "    plt.ylim(0, 100)\n",
    "    plt.ylabel('% Optimal Action')\n",
    "    plt.xlabel('Plays')\n",
    "    plt.legend(agents, loc=4)\n",
    "    plt.show()"
   ]
  },
  {
   "cell_type": "code",
   "execution_count": null,
   "id": "monetary-anniversary",
   "metadata": {},
   "outputs": [],
   "source": []
  }
 ],
 "metadata": {
  "kernelspec": {
   "display_name": "Python 3",
   "language": "python",
   "name": "python3"
  },
  "language_info": {
   "codemirror_mode": {
    "name": "ipython",
    "version": 3
   },
   "file_extension": ".py",
   "mimetype": "text/x-python",
   "name": "python",
   "nbconvert_exporter": "python",
   "pygments_lexer": "ipython3",
   "version": "3.7.7"
  }
 },
 "nbformat": 4,
 "nbformat_minor": 5
}
